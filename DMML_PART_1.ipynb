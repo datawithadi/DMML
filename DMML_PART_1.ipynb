{
  "nbformat": 4,
  "nbformat_minor": 0,
  "metadata": {
    "colab": {
      "provenance": [],
      "authorship_tag": "ABX9TyOwLpOFso9abMTj3WA74Cwh"
    },
    "kernelspec": {
      "name": "python3",
      "display_name": "Python 3"
    },
    "language_info": {
      "name": "python"
    }
  },
  "cells": [
    {
      "cell_type": "markdown",
      "source": [
        "# Data Management for Machine Learning Assignment\n",
        "\n",
        "## Problem Formulation: Customer Churn Prediction Pipeline\n",
        "\n",
        "### 1. Business Problem Definition\n",
        "\n",
        "Customer churn represents the loss of existing customers who stop using a company's services or products, leading to direct revenue decline and increased acquisition costs to replace lost customers. The challenge is to proactively identify which customers are likely to churn (specifically \"addressable churn\" where interventions are possible) by leveraging data from multiple sources and deploying a predictive machine learning model. This enables timely retention efforts and prevents further business impact from indirect effects, such as customers influencing others to leave or switching to competitors.\n",
        "\n",
        "---\n",
        "\n",
        "### 2. Key Business Objectives\n",
        "\n",
        "- Proactively identify at-risk customers before they churn.\n",
        "- Enable targeted retention strategies (e.g., personalized offers, customer support intervention).\n",
        "- Reduce overall churn rate to minimize revenue loss and acquisition costs.\n",
        "- Continuously monitor and improve model performance and retention strategy effectiveness.\n",
        "- Support data-driven decision-making across departments (sales, marketing, product).\n",
        "\n",
        "---\n",
        "\n",
        "### 3. Key Data Sources and Attributes\n",
        "\n",
        "#### Web logs\n",
        "- `customer_id`\n",
        "- `session_id`\n",
        "- `timestamps`\n",
        "- `activity_type` (pages viewed, time spent, etc.)\n",
        "\n",
        "#### Transactional Systems\n",
        "- `customer_id`\n",
        "- `transaction_id`\n",
        "- `transaction_date`\n",
        "- `purchase_amount`\n",
        "- `product_category`\n",
        "- `payment_status`\n",
        "\n",
        "#### Third-party APIs\n",
        "- `customer_id`\n",
        "- `demographic_info` (age, location)\n",
        "- `sentiment_score`\n",
        "- `social_media_engagement`\n",
        "\n",
        "#### Additional Attributes\n",
        "- Customer service interactions (call frequency, resolution time)\n",
        "- Engagement metrics (last login, average activity frequency)\n",
        "- Tenure (length of time as customer)\n",
        "\n",
        "---\n",
        "\n",
        "### 4. Expected Pipeline Outputs\n",
        "\n",
        "- **Clean, validated datasets** suitable for exploratory data analysis (EDA).\n",
        "- **Transformed feature sets** engineered specifically for machine learning.\n",
        "- **Deployable predictive model** capable of identifying churn risk for individual customers.\n",
        "\n",
        "---\n",
        "\n",
        "### 5. Measurable Evaluation Metrics\n",
        "\n",
        "- Accuracy: Correctly predicted churn/non-churn ratio\n",
        "- Precision: Ratio of correctly predicted churns to all predicted as churn\n",
        "- Recall: Ratio of correctly predicted churns to all actual churns\n",
        "- F1 Score: Harmonic mean of precision and recall\n",
        "- ROC AUC: Probability the model ranks a random positive example higher than a random negative one\n",
        "\n",
        "**Optional:**\n",
        "- Churn Rate Before vs After Intervention\n",
        "- Lift in retention for at-risk segments\n",
        "- Lead Time for churn prediction (how early model flags risk)\n",
        "\n",
        "---\n"
      ],
      "metadata": {
        "id": "J86-UAW_YZqb"
      }
    }
  ]
}