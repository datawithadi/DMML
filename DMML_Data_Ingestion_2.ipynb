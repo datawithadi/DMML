{
  "nbformat": 4,
  "nbformat_minor": 0,
  "metadata": {
    "colab": {
      "provenance": [],
      "authorship_tag": "ABX9TyPVVW4XBu6b0ScukKUqQ+2K"
    },
    "kernelspec": {
      "name": "python3",
      "display_name": "Python 3"
    },
    "language_info": {
      "name": "python"
    }
  },
  "cells": [
    {
      "cell_type": "code",
      "execution_count": null,
      "metadata": {
        "colab": {
          "base_uri": "https://localhost:8080/"
        },
        "id": "yy15uYqnel5D",
        "outputId": "5fc02bd4-abcf-403f-e310-643942d06f1c"
      },
      "outputs": [
        {
          "output_type": "stream",
          "name": "stdout",
          "text": [
            "Successfully saved CSV data to data_lake/raw/transactions/transactions_20250824.csv\n",
            "Successfully saved API data to data_lake/raw/customers/random_users_20250824.csv\n",
            "\n",
            "--- Ingestion Log ---\n",
            "2025-08-24 10:01:05 INFO: Ingested CSV: https://raw.githubusercontent.com/datawithadi/ACI_2/refs/heads/main/HR_Employee_Attrition.csv -> data_lake/raw/transactions/transactions_20250824.csv\n",
            "2025-08-24 10:01:05 INFO: Ingested API: https://randomuser.me/api/?results=100 -> data_lake/raw/customers/random_users_20250824.csv\n",
            "\n"
          ]
        }
      ],
      "source": [
        "import os\n",
        "import pandas as pd\n",
        "import requests\n",
        "from datetime import datetime\n",
        "\n",
        "# Prepare directories\n",
        "data_lake_dir = 'data_lake'\n",
        "csv_raw_dir = os.path.join(data_lake_dir, 'raw/transactions')\n",
        "api_raw_dir = os.path.join(data_lake_dir, 'raw/customers')\n",
        "os.makedirs(csv_raw_dir, exist_ok=True)\n",
        "os.makedirs(api_raw_dir, exist_ok=True)\n",
        "\n",
        "# Log file setup\n",
        "log_file = os.path.join(data_lake_dir, 'ingestion.log')\n",
        "today = datetime.now().strftime('%Y%m%d')\n",
        "\n",
        "def write_log(message, level='INFO'):\n",
        "    timestamp = datetime.now().strftime('%Y-%m-%d %H:%M:%S')\n",
        "    with open(log_file, 'a') as f:\n",
        "        f.write(f\"{timestamp} {level}: {message}\\n\")\n",
        "\n",
        "def ingest_csv(csv_url):\n",
        "    output_path = os.path.join(csv_raw_dir, f'transactions_{today}.csv')\n",
        "    try:\n",
        "        df = pd.read_csv(csv_url)\n",
        "        df.to_csv(output_path, index=False)\n",
        "        write_log(f'Ingested CSV: {csv_url} -> {output_path}', 'INFO')\n",
        "        print(f\"Successfully saved CSV data to {output_path}\")\n",
        "    except Exception as e:\n",
        "        write_log(f'Failed to ingest CSV {csv_url}: {e}', 'ERROR')\n",
        "        print(f\"Error in ingesting CSV: {e}\")\n",
        "\n",
        "def ingest_api(api_url):\n",
        "    output_path = os.path.join(api_raw_dir, f'random_users_{today}.csv')\n",
        "    try:\n",
        "        response = requests.get(api_url)\n",
        "        response.raise_for_status()\n",
        "        users = response.json()['results']\n",
        "        df = pd.json_normalize(users)\n",
        "        df.to_csv(output_path, index=False)\n",
        "        write_log(f'Ingested API: {api_url} -> {output_path}', 'INFO')\n",
        "        print(f\"Successfully saved API data to {output_path}\")\n",
        "    except Exception as e:\n",
        "        write_log(f'Failed to ingest API {api_url}: {e}', 'ERROR')\n",
        "        print(f\"Error in ingesting API: {e}\")\n",
        "\n",
        "# Run both ingestions\n",
        "github_csv_url = 'https://raw.githubusercontent.com/datawithadi/ACI_2/refs/heads/main/HR_Employee_Attrition.csv'\n",
        "ingest_csv(github_csv_url)\n",
        "\n",
        "api_endpoint = 'https://randomuser.me/api/?results=500'\n",
        "ingest_api(api_endpoint)\n",
        "\n",
        "# Display log contents\n",
        "with open(log_file) as f:\n",
        "    print(\"\\n--- Ingestion Log ---\")\n",
        "    print(f.read())\n"
      ]
    }
  ]
}